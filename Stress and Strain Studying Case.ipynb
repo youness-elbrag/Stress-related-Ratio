{
 "cells": [
  {
   "cell_type": "markdown",
   "id": "fd308631-4305-4cac-8025-df5c80550dab",
   "metadata": {},
   "source": [
    "# Part 1: Fundamentals of Stress, Strain, and Mechanical Behavior of Materials\n",
    "\n",
    "## Introduction\n",
    "\n",
    "In the realm of materials science and mechanics, comprehending how materials react to external forces is paramount. This comprehension forms the foundation for predicting material behavior under various circumstances, which is indispensable for engineering design and analysis. In this section, we will revisit the core concepts of stress, strain, and the mechanical behavior of materials.\n",
    "\n",
    "## Stress and Strain\n",
    "\n",
    "**Stress** is a pivotal mechanical property that characterizes a material's internal resistance to deformation when exposed to external forces. It is defined as the force per unit area and signifies the intensity of the internal forces within a material. Stress serves as an indicator of the mechanical load borne by a material and is a critical parameter for assessing its strength and stability.\n",
    "\n",
    "**Strain**, on the other hand, gauges the amount of deformation a material undergoes in response to applied forces or loads. It quantifies the alteration in size or shape of a material relative to its original dimensions. Strain is typically expressed as the ratio of the change in dimension to the original dimension.\n",
    "\n",
    "The equations for stress and strain are as follows:\n",
    "\n",
    "* Stress:\n",
    "\n",
    "$(\\( \\sigma \\)) = \\( \\frac{Force (F)}{Area (A)} \\)$\n",
    "\n",
    "* Strain:\n",
    "\n",
    "$(\\( \\epsilon \\)) = \\( \\frac{Change\\,in\\,Length (\\Delta L)}{Original\\,Length (L)} \\)$\n",
    "\n",
    "## Stress-Strain Relationship\n",
    "\n",
    "The interconnection between stress and strain is fundamental to grasping how materials perform under load. This relationship is conventionally depicted using a **stress-strain diagram**, a graphical representation of a material's response to escalating stress. The stress-strain diagram provides insights into a material's elastic behavior, yield point, plastic deformation, and ultimate failure.\n",
    "\n",
    "![Stress-Strain Diagram](output.png)\n",
    "\n",
    "## Hooke's Law\n",
    "\n",
    "One of the primary principles governing the elasticity of materials is **Hooke's Law**, which asserts that the deformation (strain) of a material is directly proportional to the applied stress within the elastic limit. Mathematically, Hooke's Law can be formulated as:\n",
    "\n",
    "\\[ \\sigma = E \\cdot \\epsilon \\]\n",
    "\n",
    "where:\n",
    "- \\( \\sigma \\) represents the stress applied to the material.\n",
    "- \\( E \\) denotes the Young's Modulus or Elastic Modulus, a material property indicating its stiffness.\n",
    "- \\( \\epsilon \\) signifies the strain experienced by the material.\n",
    "\n",
    "Hooke's Law is a fundamental concept for comprehending the initial behavior of materials within their elastic range. Beyond this point, materials undergo plastic deformation and might not return to their original state upon unloading.\n",
    "\n",
    "## Conclusion\n",
    "\n",
    "In this section, we have revisited the core notions of stress, strain, and the mechanical behavior of materials. These notions are indispensable for understanding how materials respond to external forces and loads. Moreover, they form the bedrock for delving into more advanced subjects in the study of deformable bodies and the mechanics of materials.\n"
   ]
  },
  {
   "cell_type": "code",
   "execution_count": 27,
   "id": "fb0a449c-28d0-49e9-8d0f-ec8bac483df9",
   "metadata": {},
   "outputs": [],
   "source": [
    "import numpy as np\n",
    "import math\n",
    "from scipy.interpolate import interp1d\n",
    "import plotly.graph_objects as go"
   ]
  },
  {
   "cell_type": "code",
   "execution_count": 28,
   "id": "90615221-71aa-4703-bad9-855b0cc25e1e",
   "metadata": {},
   "outputs": [],
   "source": [
    "# define your values\n",
    "Force = [0, 4400, 5670, 6600, 7040, 8320, 8800, 9200, 9240]\n",
    "Elongation = [0, 1, 2, 4, 5, 8, 10, 15, 18]\n",
    "GLength = 75\n",
    "Radius = 6.65\n",
    "LinearLimit = 1\n",
    "\n",
    "# area calculation\n",
    "Area = math.pi * Radius * Radius\n",
    "\n",
    "# stress strain calculated as per above values\n",
    "Stress = [x * 9.8 / Area for x in Force]\n",
    "Strain = [x / GLength for x in Elongation]\n",
    "\n",
    "# True Stress calculation\n",
    "Stress_True = [x * (1 + y) for y, x in zip(Strain, Stress)]\n",
    "\n",
    "# True Strain calculation\n",
    "Strain_True = [math.log(1 + x) for x in Strain]\n",
    "\n",
    "# values created which are needed for interpolation\n",
    "Strain_values_linear = np.linspace(Strain[0], Strain[LinearLimit], num=41, endpoint=True)\n",
    "Strain_values_eng = np.linspace(Strain[LinearLimit], Strain[-1], num=41, endpoint=True)\n",
    "Strain_values_true = np.linspace(Strain_True[LinearLimit], Strain_True[-1], num=41, endpoint=True)\n",
    "\n",
    "# interpolation defined\n",
    "f1 = interp1d(Strain, Stress, fill_value='extrapolate')\n",
    "f2 = interp1d(Strain, Stress, kind=3, fill_value='extrapolate')\n",
    "f3 = interp1d(Strain_True, Stress_True, kind=3)\n",
    "\n",
    "\n"
   ]
  },
  {
   "cell_type": "code",
   "execution_count": 29,
   "id": "86067a03-b297-4a61-b481-132cf4e496ea",
   "metadata": {},
   "outputs": [],
   "source": [
    "# find offset yield value\n",
    "val = Strain[LinearLimit]\n",
    "step = (Strain[LinearLimit + 1] - Strain[LinearLimit]) / 50\n",
    "sign = f4(val) - f2(val)\n",
    "while True:\n",
    "    if (f4(val) - f2(val)) * sign < 0:\n",
    "        break\n",
    "    val = val + step\n",
    "YieldPoint = f4(val - step)"
   ]
  },
  {
   "cell_type": "code",
   "execution_count": 32,
   "id": "8d4ffc44-3245-487d-9c36-3f717cc38d4e",
   "metadata": {},
   "outputs": [
    {
     "data": {
      "application/vnd.plotly.v1+json": {
       "config": {
        "plotlyServerURL": "https://plot.ly"
       },
       "data": [
        {
         "mode": "markers",
         "name": "Actual Values",
         "type": "scatter",
         "x": [
          0,
          0.013333333333333334,
          0.02666666666666667,
          0.05333333333333334,
          0.06666666666666667,
          0.10666666666666667,
          0.13333333333333333,
          0.2,
          0.24
         ],
         "y": [
          0,
          310.37418265012275,
          399.9594580968628,
          465.5612739751842,
          496.59869224019644,
          586.8893635565958,
          620.7483653002455,
          648.9642000866203,
          651.7857835652578
         ]
        },
        {
         "mode": "lines",
         "name": "Linear Region",
         "type": "scatter",
         "x": [
          0,
          0.0003333333333333334,
          0.0006666666666666668,
          0.001,
          0.0013333333333333335,
          0.001666666666666667,
          0.002,
          0.0023333333333333335,
          0.002666666666666667,
          0.0030000000000000005,
          0.003333333333333334,
          0.003666666666666667,
          0.004,
          0.004333333333333334,
          0.004666666666666667,
          0.005000000000000001,
          0.005333333333333334,
          0.005666666666666667,
          0.006000000000000001,
          0.006333333333333334,
          0.006666666666666668,
          0.007000000000000001,
          0.007333333333333334,
          0.007666666666666668,
          0.008,
          0.008333333333333335,
          0.008666666666666668,
          0.009000000000000001,
          0.009333333333333334,
          0.009666666666666667,
          0.010000000000000002,
          0.010333333333333335,
          0.010666666666666668,
          0.011000000000000001,
          0.011333333333333334,
          0.011666666666666669,
          0.012000000000000002,
          0.012333333333333335,
          0.012666666666666668,
          0.013000000000000001,
          0.013333333333333334
         ],
         "y": [
          0,
          7.759354566253069,
          15.518709132506139,
          23.278063698759205,
          31.037418265012278,
          38.79677283126535,
          46.55612739751841,
          54.31548196377148,
          62.074836530024555,
          69.83419109627762,
          77.5935456625307,
          85.35290022878375,
          93.11225479503682,
          100.8716093612899,
          108.63096392754296,
          116.39031849379604,
          124.14967306004911,
          131.90902762630216,
          139.66838219255524,
          147.42773675880832,
          155.1870913250614,
          162.94644589131445,
          170.7058004575675,
          178.46515502382059,
          186.22450959007364,
          193.98386415632675,
          201.7432187225798,
          209.50257328883285,
          217.26192785508593,
          225.02128242133898,
          232.7806369875921,
          240.53999155384514,
          248.29934612009822,
          256.05870068635124,
          263.8180552526043,
          271.57740981885746,
          279.3367643851105,
          287.09611895136356,
          294.85547351761664,
          302.61482808386967,
          310.37418265012275
         ]
        },
        {
         "mode": "lines",
         "name": "Engineering Stress Strain",
         "type": "scatter",
         "x": [
          0.013333333333333334,
          0.019,
          0.024666666666666667,
          0.03033333333333333,
          0.036,
          0.041666666666666664,
          0.04733333333333333,
          0.053,
          0.058666666666666666,
          0.06433333333333333,
          0.06999999999999999,
          0.07566666666666666,
          0.08133333333333333,
          0.087,
          0.09266666666666666,
          0.09833333333333333,
          0.104,
          0.10966666666666666,
          0.11533333333333333,
          0.121,
          0.12666666666666665,
          0.13233333333333333,
          0.13799999999999998,
          0.14366666666666666,
          0.14933333333333332,
          0.155,
          0.16066666666666665,
          0.16633333333333333,
          0.172,
          0.17766666666666667,
          0.18333333333333332,
          0.189,
          0.19466666666666665,
          0.2003333333333333,
          0.206,
          0.21166666666666664,
          0.21733333333333332,
          0.22299999999999998,
          0.22866666666666666,
          0.2343333333333333,
          0.24
         ],
         "y": [
          310.37418265012275,
          363.87228621068635,
          392.77139485765684,
          411.709252568158,
          427.28747615230304,
          440.64506843363324,
          452.8166418418922,
          464.8368088068231,
          477.5568405674416,
          490.95279588661856,
          504.741559130178,
          518.6665196951857,
          532.492147002517,
          545.983491138656,
          558.9056021900875,
          571.0235302432959,
          582.1023253847659,
          591.9168529178926,
          600.4393596000086,
          607.824892188451,
          614.2353909811046,
          619.8327962758543,
          624.7677191086459,
          629.1130882765892,
          632.9092485625014,
          636.1964332732263,
          639.0148757156073,
          641.4048091964881,
          643.4064670227121,
          645.0600825011234,
          646.4058889385652,
          647.4841196418811,
          648.3350079179148,
          648.9987870735101,
          649.5156904155101,
          649.9259512507589,
          650.2698028860998,
          650.5874786283766,
          650.919211784433,
          651.305235661112,
          651.7857835652578
         ]
        },
        {
         "mode": "lines",
         "name": "True Stress Strain",
         "type": "scatter",
         "x": [
          0.013245226750020723,
          0.01829188057169384,
          0.02333853439336696,
          0.02838518821504008,
          0.0334318420367132,
          0.03847849585838632,
          0.04352514968005944,
          0.04857180350173256,
          0.05361845732340568,
          0.058665111145078795,
          0.06371176496675192,
          0.06875841878842504,
          0.07380507261009815,
          0.07885172643177127,
          0.0838983802534444,
          0.08894503407511752,
          0.09399168789679063,
          0.09903834171846375,
          0.10408499554013687,
          0.10913164936181,
          0.11417830318348311,
          0.11922495700515623,
          0.12427161082682935,
          0.12931826464850246,
          0.13436491847017557,
          0.1394115722918487,
          0.1444582261135218,
          0.14950487993519493,
          0.15455153375686806,
          0.15959818757854116,
          0.1646448414002143,
          0.1696914952218874,
          0.17473814904356053,
          0.17978480286523366,
          0.18483145668690676,
          0.1898781105085799,
          0.194924764330253,
          0.19997141815192612,
          0.20501807197359925,
          0.21006472579527236,
          0.2151113796169455
         ],
         "y": [
          314.51250508545775,
          366.3835636542224,
          397.5417286965655,
          418.7632894143105,
          436.6090572666204,
          452.3024154904809,
          466.72364856738017,
          480.7530409788068,
          495.2643795779938,
          510.728196428688,
          526.9821511639702,
          543.8055332104485,
          560.9578369858003,
          578.1905467859898,
          595.2551243140366,
          611.9030312729589,
          627.8857293657754,
          642.9546802955051,
          656.8714219017335,
          669.5896806561534,
          681.23566593849,
          691.9417076562231,
          701.8401357168334,
          711.0549452263667,
          719.6529475011332,
          727.6769552318821,
          735.1696987799515,
          742.1739085066798,
          748.7323147734046,
          754.8876479414641,
          760.6826383721968,
          766.1600164269405,
          771.3625124670333,
          776.3328568538135,
          781.1137799486191,
          785.748012112788,
          790.2782837076588,
          794.7473250945691,
          799.1978666348574,
          803.6726386898615,
          808.2143716209197
         ]
        },
        {
         "mode": "markers",
         "name": "interp1d",
         "type": "scatter",
         "x": [
          0.013333333333333334
         ],
         "y": [
          310.37418265012275
         ]
        },
        {
         "line": {
          "color": "orange",
          "dash": "dash"
         },
         "mode": "lines",
         "name": "Offset Line",
         "type": "scatter",
         "x": [
          0.00048,
          0.013813333333333334,
          0.02666666666666667
         ],
         "y": [
          0,
          310.37418265012275,
          609.574894724841
         ]
        }
       ],
       "layout": {
        "annotations": [
         {
          "showarrow": false,
          "text": "Young's Modulus = 23.27806 GPa<br>Elastic Limit = 310.37418 MPa<br>Yield Stress = 317.82316 MPa<br>UTS = 651.78578 MPa<br>Failure Stress = 651.78578 MPa<br>Max Strain = 0.24000",
          "x": 0.85,
          "xref": "paper",
          "y": 0.95,
          "yref": "paper"
         }
        ],
        "font": {
         "color": "white"
        },
        "height": 600,
        "legend": {
         "x": 1,
         "y": 1
        },
        "paper_bgcolor": "black",
        "plot_bgcolor": "black",
        "shapes": [
         {
          "line": {
           "color": "cyan",
           "dash": "dash"
          },
          "type": "line",
          "x0": 0,
          "x1": 0.24,
          "y0": 651.7857835652578,
          "y1": 651.7857835652578
         },
         {
          "line": {
           "color": "purple",
           "dash": "dash"
          },
          "type": "line",
          "x0": 0.24,
          "x1": 0.24,
          "y0": 0,
          "y1": 651.7857835652578
         },
         {
          "line": {
           "color": "black",
           "dash": "dash"
          },
          "type": "line",
          "x0": 0,
          "x1": 0.24,
          "y0": [
           317.82316303372573
          ],
          "y1": [
           317.82316303372573
          ]
         }
        ],
        "showlegend": true,
        "template": {
         "data": {
          "bar": [
           {
            "error_x": {
             "color": "#2a3f5f"
            },
            "error_y": {
             "color": "#2a3f5f"
            },
            "marker": {
             "line": {
              "color": "#E5ECF6",
              "width": 0.5
             },
             "pattern": {
              "fillmode": "overlay",
              "size": 10,
              "solidity": 0.2
             }
            },
            "type": "bar"
           }
          ],
          "barpolar": [
           {
            "marker": {
             "line": {
              "color": "#E5ECF6",
              "width": 0.5
             },
             "pattern": {
              "fillmode": "overlay",
              "size": 10,
              "solidity": 0.2
             }
            },
            "type": "barpolar"
           }
          ],
          "carpet": [
           {
            "aaxis": {
             "endlinecolor": "#2a3f5f",
             "gridcolor": "white",
             "linecolor": "white",
             "minorgridcolor": "white",
             "startlinecolor": "#2a3f5f"
            },
            "baxis": {
             "endlinecolor": "#2a3f5f",
             "gridcolor": "white",
             "linecolor": "white",
             "minorgridcolor": "white",
             "startlinecolor": "#2a3f5f"
            },
            "type": "carpet"
           }
          ],
          "choropleth": [
           {
            "colorbar": {
             "outlinewidth": 0,
             "ticks": ""
            },
            "type": "choropleth"
           }
          ],
          "contour": [
           {
            "colorbar": {
             "outlinewidth": 0,
             "ticks": ""
            },
            "colorscale": [
             [
              0,
              "#0d0887"
             ],
             [
              0.1111111111111111,
              "#46039f"
             ],
             [
              0.2222222222222222,
              "#7201a8"
             ],
             [
              0.3333333333333333,
              "#9c179e"
             ],
             [
              0.4444444444444444,
              "#bd3786"
             ],
             [
              0.5555555555555556,
              "#d8576b"
             ],
             [
              0.6666666666666666,
              "#ed7953"
             ],
             [
              0.7777777777777778,
              "#fb9f3a"
             ],
             [
              0.8888888888888888,
              "#fdca26"
             ],
             [
              1,
              "#f0f921"
             ]
            ],
            "type": "contour"
           }
          ],
          "contourcarpet": [
           {
            "colorbar": {
             "outlinewidth": 0,
             "ticks": ""
            },
            "type": "contourcarpet"
           }
          ],
          "heatmap": [
           {
            "colorbar": {
             "outlinewidth": 0,
             "ticks": ""
            },
            "colorscale": [
             [
              0,
              "#0d0887"
             ],
             [
              0.1111111111111111,
              "#46039f"
             ],
             [
              0.2222222222222222,
              "#7201a8"
             ],
             [
              0.3333333333333333,
              "#9c179e"
             ],
             [
              0.4444444444444444,
              "#bd3786"
             ],
             [
              0.5555555555555556,
              "#d8576b"
             ],
             [
              0.6666666666666666,
              "#ed7953"
             ],
             [
              0.7777777777777778,
              "#fb9f3a"
             ],
             [
              0.8888888888888888,
              "#fdca26"
             ],
             [
              1,
              "#f0f921"
             ]
            ],
            "type": "heatmap"
           }
          ],
          "heatmapgl": [
           {
            "colorbar": {
             "outlinewidth": 0,
             "ticks": ""
            },
            "colorscale": [
             [
              0,
              "#0d0887"
             ],
             [
              0.1111111111111111,
              "#46039f"
             ],
             [
              0.2222222222222222,
              "#7201a8"
             ],
             [
              0.3333333333333333,
              "#9c179e"
             ],
             [
              0.4444444444444444,
              "#bd3786"
             ],
             [
              0.5555555555555556,
              "#d8576b"
             ],
             [
              0.6666666666666666,
              "#ed7953"
             ],
             [
              0.7777777777777778,
              "#fb9f3a"
             ],
             [
              0.8888888888888888,
              "#fdca26"
             ],
             [
              1,
              "#f0f921"
             ]
            ],
            "type": "heatmapgl"
           }
          ],
          "histogram": [
           {
            "marker": {
             "pattern": {
              "fillmode": "overlay",
              "size": 10,
              "solidity": 0.2
             }
            },
            "type": "histogram"
           }
          ],
          "histogram2d": [
           {
            "colorbar": {
             "outlinewidth": 0,
             "ticks": ""
            },
            "colorscale": [
             [
              0,
              "#0d0887"
             ],
             [
              0.1111111111111111,
              "#46039f"
             ],
             [
              0.2222222222222222,
              "#7201a8"
             ],
             [
              0.3333333333333333,
              "#9c179e"
             ],
             [
              0.4444444444444444,
              "#bd3786"
             ],
             [
              0.5555555555555556,
              "#d8576b"
             ],
             [
              0.6666666666666666,
              "#ed7953"
             ],
             [
              0.7777777777777778,
              "#fb9f3a"
             ],
             [
              0.8888888888888888,
              "#fdca26"
             ],
             [
              1,
              "#f0f921"
             ]
            ],
            "type": "histogram2d"
           }
          ],
          "histogram2dcontour": [
           {
            "colorbar": {
             "outlinewidth": 0,
             "ticks": ""
            },
            "colorscale": [
             [
              0,
              "#0d0887"
             ],
             [
              0.1111111111111111,
              "#46039f"
             ],
             [
              0.2222222222222222,
              "#7201a8"
             ],
             [
              0.3333333333333333,
              "#9c179e"
             ],
             [
              0.4444444444444444,
              "#bd3786"
             ],
             [
              0.5555555555555556,
              "#d8576b"
             ],
             [
              0.6666666666666666,
              "#ed7953"
             ],
             [
              0.7777777777777778,
              "#fb9f3a"
             ],
             [
              0.8888888888888888,
              "#fdca26"
             ],
             [
              1,
              "#f0f921"
             ]
            ],
            "type": "histogram2dcontour"
           }
          ],
          "mesh3d": [
           {
            "colorbar": {
             "outlinewidth": 0,
             "ticks": ""
            },
            "type": "mesh3d"
           }
          ],
          "parcoords": [
           {
            "line": {
             "colorbar": {
              "outlinewidth": 0,
              "ticks": ""
             }
            },
            "type": "parcoords"
           }
          ],
          "pie": [
           {
            "automargin": true,
            "type": "pie"
           }
          ],
          "scatter": [
           {
            "fillpattern": {
             "fillmode": "overlay",
             "size": 10,
             "solidity": 0.2
            },
            "type": "scatter"
           }
          ],
          "scatter3d": [
           {
            "line": {
             "colorbar": {
              "outlinewidth": 0,
              "ticks": ""
             }
            },
            "marker": {
             "colorbar": {
              "outlinewidth": 0,
              "ticks": ""
             }
            },
            "type": "scatter3d"
           }
          ],
          "scattercarpet": [
           {
            "marker": {
             "colorbar": {
              "outlinewidth": 0,
              "ticks": ""
             }
            },
            "type": "scattercarpet"
           }
          ],
          "scattergeo": [
           {
            "marker": {
             "colorbar": {
              "outlinewidth": 0,
              "ticks": ""
             }
            },
            "type": "scattergeo"
           }
          ],
          "scattergl": [
           {
            "marker": {
             "colorbar": {
              "outlinewidth": 0,
              "ticks": ""
             }
            },
            "type": "scattergl"
           }
          ],
          "scattermapbox": [
           {
            "marker": {
             "colorbar": {
              "outlinewidth": 0,
              "ticks": ""
             }
            },
            "type": "scattermapbox"
           }
          ],
          "scatterpolar": [
           {
            "marker": {
             "colorbar": {
              "outlinewidth": 0,
              "ticks": ""
             }
            },
            "type": "scatterpolar"
           }
          ],
          "scatterpolargl": [
           {
            "marker": {
             "colorbar": {
              "outlinewidth": 0,
              "ticks": ""
             }
            },
            "type": "scatterpolargl"
           }
          ],
          "scatterternary": [
           {
            "marker": {
             "colorbar": {
              "outlinewidth": 0,
              "ticks": ""
             }
            },
            "type": "scatterternary"
           }
          ],
          "surface": [
           {
            "colorbar": {
             "outlinewidth": 0,
             "ticks": ""
            },
            "colorscale": [
             [
              0,
              "#0d0887"
             ],
             [
              0.1111111111111111,
              "#46039f"
             ],
             [
              0.2222222222222222,
              "#7201a8"
             ],
             [
              0.3333333333333333,
              "#9c179e"
             ],
             [
              0.4444444444444444,
              "#bd3786"
             ],
             [
              0.5555555555555556,
              "#d8576b"
             ],
             [
              0.6666666666666666,
              "#ed7953"
             ],
             [
              0.7777777777777778,
              "#fb9f3a"
             ],
             [
              0.8888888888888888,
              "#fdca26"
             ],
             [
              1,
              "#f0f921"
             ]
            ],
            "type": "surface"
           }
          ],
          "table": [
           {
            "cells": {
             "fill": {
              "color": "#EBF0F8"
             },
             "line": {
              "color": "white"
             }
            },
            "header": {
             "fill": {
              "color": "#C8D4E3"
             },
             "line": {
              "color": "white"
             }
            },
            "type": "table"
           }
          ]
         },
         "layout": {
          "annotationdefaults": {
           "arrowcolor": "#2a3f5f",
           "arrowhead": 0,
           "arrowwidth": 1
          },
          "autotypenumbers": "strict",
          "coloraxis": {
           "colorbar": {
            "outlinewidth": 0,
            "ticks": ""
           }
          },
          "colorscale": {
           "diverging": [
            [
             0,
             "#8e0152"
            ],
            [
             0.1,
             "#c51b7d"
            ],
            [
             0.2,
             "#de77ae"
            ],
            [
             0.3,
             "#f1b6da"
            ],
            [
             0.4,
             "#fde0ef"
            ],
            [
             0.5,
             "#f7f7f7"
            ],
            [
             0.6,
             "#e6f5d0"
            ],
            [
             0.7,
             "#b8e186"
            ],
            [
             0.8,
             "#7fbc41"
            ],
            [
             0.9,
             "#4d9221"
            ],
            [
             1,
             "#276419"
            ]
           ],
           "sequential": [
            [
             0,
             "#0d0887"
            ],
            [
             0.1111111111111111,
             "#46039f"
            ],
            [
             0.2222222222222222,
             "#7201a8"
            ],
            [
             0.3333333333333333,
             "#9c179e"
            ],
            [
             0.4444444444444444,
             "#bd3786"
            ],
            [
             0.5555555555555556,
             "#d8576b"
            ],
            [
             0.6666666666666666,
             "#ed7953"
            ],
            [
             0.7777777777777778,
             "#fb9f3a"
            ],
            [
             0.8888888888888888,
             "#fdca26"
            ],
            [
             1,
             "#f0f921"
            ]
           ],
           "sequentialminus": [
            [
             0,
             "#0d0887"
            ],
            [
             0.1111111111111111,
             "#46039f"
            ],
            [
             0.2222222222222222,
             "#7201a8"
            ],
            [
             0.3333333333333333,
             "#9c179e"
            ],
            [
             0.4444444444444444,
             "#bd3786"
            ],
            [
             0.5555555555555556,
             "#d8576b"
            ],
            [
             0.6666666666666666,
             "#ed7953"
            ],
            [
             0.7777777777777778,
             "#fb9f3a"
            ],
            [
             0.8888888888888888,
             "#fdca26"
            ],
            [
             1,
             "#f0f921"
            ]
           ]
          },
          "colorway": [
           "#636efa",
           "#EF553B",
           "#00cc96",
           "#ab63fa",
           "#FFA15A",
           "#19d3f3",
           "#FF6692",
           "#B6E880",
           "#FF97FF",
           "#FECB52"
          ],
          "font": {
           "color": "#2a3f5f"
          },
          "geo": {
           "bgcolor": "white",
           "lakecolor": "white",
           "landcolor": "#E5ECF6",
           "showlakes": true,
           "showland": true,
           "subunitcolor": "white"
          },
          "hoverlabel": {
           "align": "left"
          },
          "hovermode": "closest",
          "mapbox": {
           "style": "light"
          },
          "paper_bgcolor": "white",
          "plot_bgcolor": "#E5ECF6",
          "polar": {
           "angularaxis": {
            "gridcolor": "white",
            "linecolor": "white",
            "ticks": ""
           },
           "bgcolor": "#E5ECF6",
           "radialaxis": {
            "gridcolor": "white",
            "linecolor": "white",
            "ticks": ""
           }
          },
          "scene": {
           "xaxis": {
            "backgroundcolor": "#E5ECF6",
            "gridcolor": "white",
            "gridwidth": 2,
            "linecolor": "white",
            "showbackground": true,
            "ticks": "",
            "zerolinecolor": "white"
           },
           "yaxis": {
            "backgroundcolor": "#E5ECF6",
            "gridcolor": "white",
            "gridwidth": 2,
            "linecolor": "white",
            "showbackground": true,
            "ticks": "",
            "zerolinecolor": "white"
           },
           "zaxis": {
            "backgroundcolor": "#E5ECF6",
            "gridcolor": "white",
            "gridwidth": 2,
            "linecolor": "white",
            "showbackground": true,
            "ticks": "",
            "zerolinecolor": "white"
           }
          },
          "shapedefaults": {
           "line": {
            "color": "#2a3f5f"
           }
          },
          "ternary": {
           "aaxis": {
            "gridcolor": "white",
            "linecolor": "white",
            "ticks": ""
           },
           "baxis": {
            "gridcolor": "white",
            "linecolor": "white",
            "ticks": ""
           },
           "bgcolor": "#E5ECF6",
           "caxis": {
            "gridcolor": "white",
            "linecolor": "white",
            "ticks": ""
           }
          },
          "title": {
           "x": 0.05
          },
          "xaxis": {
           "automargin": true,
           "gridcolor": "white",
           "linecolor": "white",
           "ticks": "",
           "title": {
            "standoff": 15
           },
           "zerolinecolor": "white",
           "zerolinewidth": 2
          },
          "yaxis": {
           "automargin": true,
           "gridcolor": "white",
           "linecolor": "white",
           "ticks": "",
           "title": {
            "standoff": 15
           },
           "zerolinecolor": "white",
           "zerolinewidth": 2
          }
         }
        },
        "width": 800,
        "xaxis": {
         "range": [
          0,
          0.24
         ],
         "title": {
          "text": "Strain"
         },
         "type": "linear"
        },
        "yaxis": {
         "range": [
          0,
          651.7857835652578
         ],
         "title": {
          "text": "Stress (MPa)"
         },
         "type": "linear"
        }
       }
      },
      "text/html": [
       "<div>                            <div id=\"3dd25e14-d071-4c1c-9606-f8119ad997e5\" class=\"plotly-graph-div\" style=\"height:600px; width:800px;\"></div>            <script type=\"text/javascript\">                require([\"plotly\"], function(Plotly) {                    window.PLOTLYENV=window.PLOTLYENV || {};                                    if (document.getElementById(\"3dd25e14-d071-4c1c-9606-f8119ad997e5\")) {                    Plotly.newPlot(                        \"3dd25e14-d071-4c1c-9606-f8119ad997e5\",                        [{\"mode\":\"markers\",\"name\":\"Actual Values\",\"x\":[0.0,0.013333333333333334,0.02666666666666667,0.05333333333333334,0.06666666666666667,0.10666666666666667,0.13333333333333333,0.2,0.24],\"y\":[0.0,310.37418265012275,399.9594580968628,465.5612739751842,496.59869224019644,586.8893635565958,620.7483653002455,648.9642000866203,651.7857835652578],\"type\":\"scatter\"},{\"mode\":\"lines\",\"name\":\"Linear Region\",\"x\":[0.0,0.0003333333333333334,0.0006666666666666668,0.001,0.0013333333333333335,0.001666666666666667,0.002,0.0023333333333333335,0.002666666666666667,0.0030000000000000005,0.003333333333333334,0.003666666666666667,0.004,0.004333333333333334,0.004666666666666667,0.005000000000000001,0.005333333333333334,0.005666666666666667,0.006000000000000001,0.006333333333333334,0.006666666666666668,0.007000000000000001,0.007333333333333334,0.007666666666666668,0.008,0.008333333333333335,0.008666666666666668,0.009000000000000001,0.009333333333333334,0.009666666666666667,0.010000000000000002,0.010333333333333335,0.010666666666666668,0.011000000000000001,0.011333333333333334,0.011666666666666669,0.012000000000000002,0.012333333333333335,0.012666666666666668,0.013000000000000001,0.013333333333333334],\"y\":[0.0,7.759354566253069,15.518709132506139,23.278063698759205,31.037418265012278,38.79677283126535,46.55612739751841,54.31548196377148,62.074836530024555,69.83419109627762,77.5935456625307,85.35290022878375,93.11225479503682,100.8716093612899,108.63096392754296,116.39031849379604,124.14967306004911,131.90902762630216,139.66838219255524,147.42773675880832,155.1870913250614,162.94644589131445,170.7058004575675,178.46515502382059,186.22450959007364,193.98386415632675,201.7432187225798,209.50257328883285,217.26192785508593,225.02128242133898,232.7806369875921,240.53999155384514,248.29934612009822,256.05870068635124,263.8180552526043,271.57740981885746,279.3367643851105,287.09611895136356,294.85547351761664,302.61482808386967,310.37418265012275],\"type\":\"scatter\"},{\"mode\":\"lines\",\"name\":\"Engineering Stress Strain\",\"x\":[0.013333333333333334,0.019,0.024666666666666667,0.03033333333333333,0.036,0.041666666666666664,0.04733333333333333,0.053,0.058666666666666666,0.06433333333333333,0.06999999999999999,0.07566666666666666,0.08133333333333333,0.087,0.09266666666666666,0.09833333333333333,0.104,0.10966666666666666,0.11533333333333333,0.121,0.12666666666666665,0.13233333333333333,0.13799999999999998,0.14366666666666666,0.14933333333333332,0.155,0.16066666666666665,0.16633333333333333,0.172,0.17766666666666667,0.18333333333333332,0.189,0.19466666666666665,0.2003333333333333,0.206,0.21166666666666664,0.21733333333333332,0.22299999999999998,0.22866666666666666,0.2343333333333333,0.24],\"y\":[310.37418265012275,363.87228621068635,392.77139485765684,411.709252568158,427.28747615230304,440.64506843363324,452.8166418418922,464.8368088068231,477.5568405674416,490.95279588661856,504.741559130178,518.6665196951857,532.492147002517,545.983491138656,558.9056021900875,571.0235302432959,582.1023253847659,591.9168529178926,600.4393596000086,607.824892188451,614.2353909811046,619.8327962758543,624.7677191086459,629.1130882765892,632.9092485625014,636.1964332732263,639.0148757156073,641.4048091964881,643.4064670227121,645.0600825011234,646.4058889385652,647.4841196418811,648.3350079179148,648.9987870735101,649.5156904155101,649.9259512507589,650.2698028860998,650.5874786283766,650.919211784433,651.305235661112,651.7857835652578],\"type\":\"scatter\"},{\"mode\":\"lines\",\"name\":\"True Stress Strain\",\"x\":[0.013245226750020723,0.01829188057169384,0.02333853439336696,0.02838518821504008,0.0334318420367132,0.03847849585838632,0.04352514968005944,0.04857180350173256,0.05361845732340568,0.058665111145078795,0.06371176496675192,0.06875841878842504,0.07380507261009815,0.07885172643177127,0.0838983802534444,0.08894503407511752,0.09399168789679063,0.09903834171846375,0.10408499554013687,0.10913164936181,0.11417830318348311,0.11922495700515623,0.12427161082682935,0.12931826464850246,0.13436491847017557,0.1394115722918487,0.1444582261135218,0.14950487993519493,0.15455153375686806,0.15959818757854116,0.1646448414002143,0.1696914952218874,0.17473814904356053,0.17978480286523366,0.18483145668690676,0.1898781105085799,0.194924764330253,0.19997141815192612,0.20501807197359925,0.21006472579527236,0.2151113796169455],\"y\":[314.51250508545775,366.3835636542224,397.5417286965655,418.7632894143105,436.6090572666204,452.3024154904809,466.72364856738017,480.7530409788068,495.2643795779938,510.728196428688,526.9821511639702,543.8055332104485,560.9578369858003,578.1905467859898,595.2551243140366,611.9030312729589,627.8857293657754,642.9546802955051,656.8714219017335,669.5896806561534,681.23566593849,691.9417076562231,701.8401357168334,711.0549452263667,719.6529475011332,727.6769552318821,735.1696987799515,742.1739085066798,748.7323147734046,754.8876479414641,760.6826383721968,766.1600164269405,771.3625124670333,776.3328568538135,781.1137799486191,785.748012112788,790.2782837076588,794.7473250945691,799.1978666348574,803.6726386898615,808.2143716209197],\"type\":\"scatter\"},{\"mode\":\"markers\",\"name\":\"interp1d\",\"x\":[0.013333333333333334],\"y\":[310.37418265012275],\"type\":\"scatter\"},{\"line\":{\"color\":\"orange\",\"dash\":\"dash\"},\"mode\":\"lines\",\"name\":\"Offset Line\",\"x\":[0.00048,0.013813333333333334,0.02666666666666667],\"y\":[0.0,310.37418265012275,609.574894724841],\"type\":\"scatter\"}],                        {\"template\":{\"data\":{\"histogram2dcontour\":[{\"type\":\"histogram2dcontour\",\"colorbar\":{\"outlinewidth\":0,\"ticks\":\"\"},\"colorscale\":[[0.0,\"#0d0887\"],[0.1111111111111111,\"#46039f\"],[0.2222222222222222,\"#7201a8\"],[0.3333333333333333,\"#9c179e\"],[0.4444444444444444,\"#bd3786\"],[0.5555555555555556,\"#d8576b\"],[0.6666666666666666,\"#ed7953\"],[0.7777777777777778,\"#fb9f3a\"],[0.8888888888888888,\"#fdca26\"],[1.0,\"#f0f921\"]]}],\"choropleth\":[{\"type\":\"choropleth\",\"colorbar\":{\"outlinewidth\":0,\"ticks\":\"\"}}],\"histogram2d\":[{\"type\":\"histogram2d\",\"colorbar\":{\"outlinewidth\":0,\"ticks\":\"\"},\"colorscale\":[[0.0,\"#0d0887\"],[0.1111111111111111,\"#46039f\"],[0.2222222222222222,\"#7201a8\"],[0.3333333333333333,\"#9c179e\"],[0.4444444444444444,\"#bd3786\"],[0.5555555555555556,\"#d8576b\"],[0.6666666666666666,\"#ed7953\"],[0.7777777777777778,\"#fb9f3a\"],[0.8888888888888888,\"#fdca26\"],[1.0,\"#f0f921\"]]}],\"heatmap\":[{\"type\":\"heatmap\",\"colorbar\":{\"outlinewidth\":0,\"ticks\":\"\"},\"colorscale\":[[0.0,\"#0d0887\"],[0.1111111111111111,\"#46039f\"],[0.2222222222222222,\"#7201a8\"],[0.3333333333333333,\"#9c179e\"],[0.4444444444444444,\"#bd3786\"],[0.5555555555555556,\"#d8576b\"],[0.6666666666666666,\"#ed7953\"],[0.7777777777777778,\"#fb9f3a\"],[0.8888888888888888,\"#fdca26\"],[1.0,\"#f0f921\"]]}],\"heatmapgl\":[{\"type\":\"heatmapgl\",\"colorbar\":{\"outlinewidth\":0,\"ticks\":\"\"},\"colorscale\":[[0.0,\"#0d0887\"],[0.1111111111111111,\"#46039f\"],[0.2222222222222222,\"#7201a8\"],[0.3333333333333333,\"#9c179e\"],[0.4444444444444444,\"#bd3786\"],[0.5555555555555556,\"#d8576b\"],[0.6666666666666666,\"#ed7953\"],[0.7777777777777778,\"#fb9f3a\"],[0.8888888888888888,\"#fdca26\"],[1.0,\"#f0f921\"]]}],\"contourcarpet\":[{\"type\":\"contourcarpet\",\"colorbar\":{\"outlinewidth\":0,\"ticks\":\"\"}}],\"contour\":[{\"type\":\"contour\",\"colorbar\":{\"outlinewidth\":0,\"ticks\":\"\"},\"colorscale\":[[0.0,\"#0d0887\"],[0.1111111111111111,\"#46039f\"],[0.2222222222222222,\"#7201a8\"],[0.3333333333333333,\"#9c179e\"],[0.4444444444444444,\"#bd3786\"],[0.5555555555555556,\"#d8576b\"],[0.6666666666666666,\"#ed7953\"],[0.7777777777777778,\"#fb9f3a\"],[0.8888888888888888,\"#fdca26\"],[1.0,\"#f0f921\"]]}],\"surface\":[{\"type\":\"surface\",\"colorbar\":{\"outlinewidth\":0,\"ticks\":\"\"},\"colorscale\":[[0.0,\"#0d0887\"],[0.1111111111111111,\"#46039f\"],[0.2222222222222222,\"#7201a8\"],[0.3333333333333333,\"#9c179e\"],[0.4444444444444444,\"#bd3786\"],[0.5555555555555556,\"#d8576b\"],[0.6666666666666666,\"#ed7953\"],[0.7777777777777778,\"#fb9f3a\"],[0.8888888888888888,\"#fdca26\"],[1.0,\"#f0f921\"]]}],\"mesh3d\":[{\"type\":\"mesh3d\",\"colorbar\":{\"outlinewidth\":0,\"ticks\":\"\"}}],\"scatter\":[{\"fillpattern\":{\"fillmode\":\"overlay\",\"size\":10,\"solidity\":0.2},\"type\":\"scatter\"}],\"parcoords\":[{\"type\":\"parcoords\",\"line\":{\"colorbar\":{\"outlinewidth\":0,\"ticks\":\"\"}}}],\"scatterpolargl\":[{\"type\":\"scatterpolargl\",\"marker\":{\"colorbar\":{\"outlinewidth\":0,\"ticks\":\"\"}}}],\"bar\":[{\"error_x\":{\"color\":\"#2a3f5f\"},\"error_y\":{\"color\":\"#2a3f5f\"},\"marker\":{\"line\":{\"color\":\"#E5ECF6\",\"width\":0.5},\"pattern\":{\"fillmode\":\"overlay\",\"size\":10,\"solidity\":0.2}},\"type\":\"bar\"}],\"scattergeo\":[{\"type\":\"scattergeo\",\"marker\":{\"colorbar\":{\"outlinewidth\":0,\"ticks\":\"\"}}}],\"scatterpolar\":[{\"type\":\"scatterpolar\",\"marker\":{\"colorbar\":{\"outlinewidth\":0,\"ticks\":\"\"}}}],\"histogram\":[{\"marker\":{\"pattern\":{\"fillmode\":\"overlay\",\"size\":10,\"solidity\":0.2}},\"type\":\"histogram\"}],\"scattergl\":[{\"type\":\"scattergl\",\"marker\":{\"colorbar\":{\"outlinewidth\":0,\"ticks\":\"\"}}}],\"scatter3d\":[{\"type\":\"scatter3d\",\"line\":{\"colorbar\":{\"outlinewidth\":0,\"ticks\":\"\"}},\"marker\":{\"colorbar\":{\"outlinewidth\":0,\"ticks\":\"\"}}}],\"scattermapbox\":[{\"type\":\"scattermapbox\",\"marker\":{\"colorbar\":{\"outlinewidth\":0,\"ticks\":\"\"}}}],\"scatterternary\":[{\"type\":\"scatterternary\",\"marker\":{\"colorbar\":{\"outlinewidth\":0,\"ticks\":\"\"}}}],\"scattercarpet\":[{\"type\":\"scattercarpet\",\"marker\":{\"colorbar\":{\"outlinewidth\":0,\"ticks\":\"\"}}}],\"carpet\":[{\"aaxis\":{\"endlinecolor\":\"#2a3f5f\",\"gridcolor\":\"white\",\"linecolor\":\"white\",\"minorgridcolor\":\"white\",\"startlinecolor\":\"#2a3f5f\"},\"baxis\":{\"endlinecolor\":\"#2a3f5f\",\"gridcolor\":\"white\",\"linecolor\":\"white\",\"minorgridcolor\":\"white\",\"startlinecolor\":\"#2a3f5f\"},\"type\":\"carpet\"}],\"table\":[{\"cells\":{\"fill\":{\"color\":\"#EBF0F8\"},\"line\":{\"color\":\"white\"}},\"header\":{\"fill\":{\"color\":\"#C8D4E3\"},\"line\":{\"color\":\"white\"}},\"type\":\"table\"}],\"barpolar\":[{\"marker\":{\"line\":{\"color\":\"#E5ECF6\",\"width\":0.5},\"pattern\":{\"fillmode\":\"overlay\",\"size\":10,\"solidity\":0.2}},\"type\":\"barpolar\"}],\"pie\":[{\"automargin\":true,\"type\":\"pie\"}]},\"layout\":{\"autotypenumbers\":\"strict\",\"colorway\":[\"#636efa\",\"#EF553B\",\"#00cc96\",\"#ab63fa\",\"#FFA15A\",\"#19d3f3\",\"#FF6692\",\"#B6E880\",\"#FF97FF\",\"#FECB52\"],\"font\":{\"color\":\"#2a3f5f\"},\"hovermode\":\"closest\",\"hoverlabel\":{\"align\":\"left\"},\"paper_bgcolor\":\"white\",\"plot_bgcolor\":\"#E5ECF6\",\"polar\":{\"bgcolor\":\"#E5ECF6\",\"angularaxis\":{\"gridcolor\":\"white\",\"linecolor\":\"white\",\"ticks\":\"\"},\"radialaxis\":{\"gridcolor\":\"white\",\"linecolor\":\"white\",\"ticks\":\"\"}},\"ternary\":{\"bgcolor\":\"#E5ECF6\",\"aaxis\":{\"gridcolor\":\"white\",\"linecolor\":\"white\",\"ticks\":\"\"},\"baxis\":{\"gridcolor\":\"white\",\"linecolor\":\"white\",\"ticks\":\"\"},\"caxis\":{\"gridcolor\":\"white\",\"linecolor\":\"white\",\"ticks\":\"\"}},\"coloraxis\":{\"colorbar\":{\"outlinewidth\":0,\"ticks\":\"\"}},\"colorscale\":{\"sequential\":[[0.0,\"#0d0887\"],[0.1111111111111111,\"#46039f\"],[0.2222222222222222,\"#7201a8\"],[0.3333333333333333,\"#9c179e\"],[0.4444444444444444,\"#bd3786\"],[0.5555555555555556,\"#d8576b\"],[0.6666666666666666,\"#ed7953\"],[0.7777777777777778,\"#fb9f3a\"],[0.8888888888888888,\"#fdca26\"],[1.0,\"#f0f921\"]],\"sequentialminus\":[[0.0,\"#0d0887\"],[0.1111111111111111,\"#46039f\"],[0.2222222222222222,\"#7201a8\"],[0.3333333333333333,\"#9c179e\"],[0.4444444444444444,\"#bd3786\"],[0.5555555555555556,\"#d8576b\"],[0.6666666666666666,\"#ed7953\"],[0.7777777777777778,\"#fb9f3a\"],[0.8888888888888888,\"#fdca26\"],[1.0,\"#f0f921\"]],\"diverging\":[[0,\"#8e0152\"],[0.1,\"#c51b7d\"],[0.2,\"#de77ae\"],[0.3,\"#f1b6da\"],[0.4,\"#fde0ef\"],[0.5,\"#f7f7f7\"],[0.6,\"#e6f5d0\"],[0.7,\"#b8e186\"],[0.8,\"#7fbc41\"],[0.9,\"#4d9221\"],[1,\"#276419\"]]},\"xaxis\":{\"gridcolor\":\"white\",\"linecolor\":\"white\",\"ticks\":\"\",\"title\":{\"standoff\":15},\"zerolinecolor\":\"white\",\"automargin\":true,\"zerolinewidth\":2},\"yaxis\":{\"gridcolor\":\"white\",\"linecolor\":\"white\",\"ticks\":\"\",\"title\":{\"standoff\":15},\"zerolinecolor\":\"white\",\"automargin\":true,\"zerolinewidth\":2},\"scene\":{\"xaxis\":{\"backgroundcolor\":\"#E5ECF6\",\"gridcolor\":\"white\",\"linecolor\":\"white\",\"showbackground\":true,\"ticks\":\"\",\"zerolinecolor\":\"white\",\"gridwidth\":2},\"yaxis\":{\"backgroundcolor\":\"#E5ECF6\",\"gridcolor\":\"white\",\"linecolor\":\"white\",\"showbackground\":true,\"ticks\":\"\",\"zerolinecolor\":\"white\",\"gridwidth\":2},\"zaxis\":{\"backgroundcolor\":\"#E5ECF6\",\"gridcolor\":\"white\",\"linecolor\":\"white\",\"showbackground\":true,\"ticks\":\"\",\"zerolinecolor\":\"white\",\"gridwidth\":2}},\"shapedefaults\":{\"line\":{\"color\":\"#2a3f5f\"}},\"annotationdefaults\":{\"arrowcolor\":\"#2a3f5f\",\"arrowhead\":0,\"arrowwidth\":1},\"geo\":{\"bgcolor\":\"white\",\"landcolor\":\"#E5ECF6\",\"subunitcolor\":\"white\",\"showland\":true,\"showlakes\":true,\"lakecolor\":\"white\"},\"title\":{\"x\":0.05},\"mapbox\":{\"style\":\"light\"}}},\"shapes\":[{\"line\":{\"color\":\"cyan\",\"dash\":\"dash\"},\"type\":\"line\",\"x0\":0.0,\"x1\":0.24,\"y0\":651.7857835652578,\"y1\":651.7857835652578},{\"line\":{\"color\":\"purple\",\"dash\":\"dash\"},\"type\":\"line\",\"x0\":0.24,\"x1\":0.24,\"y0\":0,\"y1\":651.7857835652578},{\"line\":{\"color\":\"black\",\"dash\":\"dash\"},\"type\":\"line\",\"x0\":0.0,\"x1\":0.24,\"y0\":[317.82316303372573],\"y1\":[317.82316303372573]}],\"annotations\":[{\"showarrow\":false,\"text\":\"Young's Modulus = 23.27806 GPa\\u003cbr\\u003eElastic Limit = 310.37418 MPa\\u003cbr\\u003eYield Stress = 317.82316 MPa\\u003cbr\\u003eUTS = 651.78578 MPa\\u003cbr\\u003eFailure Stress = 651.78578 MPa\\u003cbr\\u003eMax Strain = 0.24000\",\"x\":0.85,\"xref\":\"paper\",\"y\":0.95,\"yref\":\"paper\"}],\"xaxis\":{\"title\":{\"text\":\"Strain\"},\"range\":[0,0.24]},\"yaxis\":{\"title\":{\"text\":\"Stress (MPa)\"},\"range\":[0,651.7857835652578]},\"legend\":{\"x\":1,\"y\":1},\"font\":{\"color\":\"white\"},\"showlegend\":true,\"paper_bgcolor\":\"black\",\"plot_bgcolor\":\"black\",\"width\":800,\"height\":600},                        {\"responsive\": true}                    ).then(function(){\n",
       "                            \n",
       "var gd = document.getElementById('3dd25e14-d071-4c1c-9606-f8119ad997e5');\n",
       "var x = new MutationObserver(function (mutations, observer) {{\n",
       "        var display = window.getComputedStyle(gd).display;\n",
       "        if (!display || display === 'none') {{\n",
       "            console.log([gd, 'removed!']);\n",
       "            Plotly.purge(gd);\n",
       "            observer.disconnect();\n",
       "        }}\n",
       "}});\n",
       "\n",
       "// Listen for the removal of the full notebook cells\n",
       "var notebookContainer = gd.closest('#notebook-container');\n",
       "if (notebookContainer) {{\n",
       "    x.observe(notebookContainer, {childList: true});\n",
       "}}\n",
       "\n",
       "// Listen for the clearing of the current output cell\n",
       "var outputEl = gd.closest('.output');\n",
       "if (outputEl) {{\n",
       "    x.observe(outputEl, {childList: true});\n",
       "}}\n",
       "\n",
       "                        })                };                });            </script>        </div>"
      ]
     },
     "metadata": {},
     "output_type": "display_data"
    }
   ],
   "source": [
    "# create Plotly figure\n",
    "fig = go.Figure()\n",
    "\n",
    "# plot data and interpolated lines\n",
    "fig.add_trace(go.Scatter(x=Strain, y=Stress, mode='markers', name='Actual Values'))\n",
    "fig.add_trace(go.Scatter(x=Strain_values_linear, y=f1(Strain_values_linear), mode='lines', name='Linear Region'))\n",
    "fig.add_trace(go.Scatter(x=Strain_values_eng, y=f2(Strain_values_eng), mode='lines', name='Engineering Stress Strain'))\n",
    "fig.add_trace(go.Scatter(x=Strain_values_true, y=f3(Strain_values_true), mode='lines', name='True Stress Strain'))\n",
    "\n",
    "# plot interp1d point\n",
    "interp1d_point = go.Scatter(x=[Strain[LinearLimit]], y=[Stress[LinearLimit]], mode='markers', name='interp1d')\n",
    "fig.add_trace(interp1d_point)\n",
    "\n",
    "# plot UTS Line\n",
    "fig.add_shape(dict(type=\"line\", x0=min(Strain), x1=max(Strain), y0=uts, y1=uts, line=dict(color='cyan', dash='dash')))\n",
    "\n",
    "# plot Ductility Line\n",
    "fig.add_shape(dict(type=\"line\", x0=Strain[-1], x1=Strain[-1], y0=0, y1=max(Stress), line=dict(color='purple', dash='dash')))\n",
    "\n",
    "# plot offset Line\n",
    "xA = [Strain[0], Strain[LinearLimit]]\n",
    "yA = [Stress[0], Stress[LinearLimit]]\n",
    "Strain_values_offset = [x + 0.002 * Strain[-1] for x in xA]\n",
    "f4 = interp1d(Strain_values_offset, yA, fill_value='extrapolate')\n",
    "Strain_values_offset.append(Strain[LinearLimit + 1])\n",
    "fig.add_trace(go.Scatter(x=Strain_values_offset, y=f4(Strain_values_offset), mode='lines', name='Offset Line', line=dict(color='orange', dash='dash')))\n",
    "\n",
    "# plot offset horizontal line\n",
    "fig.add_shape(dict(type=\"line\", x0=min(Strain), x1=max(Strain), y0=YieldPoint, y1=YieldPoint, line=dict(color='black', dash='dash')))\n",
    "\n",
    "# add annotations\n",
    "annotations = [\n",
    "    dict(x=Strain[-1], y=max(Stress), xref=\"x\", yref=\"y\", text=\"Max Strain\", showarrow=True, arrowhead=2),\n",
    "    dict(x=min(Strain), y=uts, xref=\"x\", yref=\"y\", text=\"UTS\", showarrow=True, arrowhead=2),\n",
    "    dict(x=Strain[-1], y=YieldPoint, xref=\"x\", yref=\"y\", text=\"Yield Point\", showarrow=True, arrowhead=2),\n",
    "    dict(x=Strain[LinearLimit], y=Stress[LinearLimit], xref=\"x\", yref=\"y\", text=\"interp1d\", showarrow=True, arrowhead=2)\n",
    "]\n",
    "\n",
    "# add anchored text\n",
    "anchored_text = f\"Young's Modulus = {Modulus:.5f} GPa<br>\" \\\n",
    "                f\"Elastic Limit = {ElasticLimit:.5f} MPa<br>\" \\\n",
    "                f\"Yield Stress = {YieldPoint:.5f} MPa<br>\" \\\n",
    "                f\"UTS = {uts:.5f} MPa<br>\" \\\n",
    "                f\"Failure Stress = {failure_stress:.5f} MPa<br>\" \\\n",
    "                f\"Max Strain = {Strain[-1]:.5f}\"\n",
    "fig.add_annotation(go.layout.Annotation(x=0.85, y=0.95, xref=\"paper\", yref=\"paper\", text=anchored_text, showarrow=False))\n",
    "\n",
    "# layout settings\n",
    "fig.update_layout(\n",
    "    xaxis_title=\"Strain\",\n",
    "    yaxis_title=\"Stress (MPa)\",\n",
    "    xaxis_range=[0, max(Strain)],\n",
    "    yaxis_range=[0, max(Stress)],\n",
    "    showlegend=True,\n",
    "    legend=dict(x=1, y=1),\n",
    "    paper_bgcolor='black',            # Set background color to black\n",
    "    plot_bgcolor='black',             # Set plot area color to black\n",
    "    font=dict(color='white')          # Set font color to white\n",
    ")\n",
    "\n",
    "# set figure size\n",
    "fig.update_layout(width=800, height=600)\n",
    "\n",
    "# display graph\n",
    "fig.show()\n"
   ]
  },
  {
   "cell_type": "markdown",
   "id": "47bfedd6-52f9-425f-be07-40a71902667a",
   "metadata": {},
   "source": [
    "# Part 2 : We will study a experimental srtess-strain\n",
    "\n",
    ":## Problem 1 - Analysis of experimental srtess-strain curves of alluminum 6061-T651\n",
    "\n",
    "We are going to analyze the dataset collected by {cite}`AAKASH2019104085`.\n",
    "They perform two types of experiments.\n",
    "We are going to focus on the \"uniaxial tension experiment.\" \n",
    "This is what it is all about:\n",
    "+ They take several speciments of alluminum 6061-T651 ([a high-temperature alluminum alloy](https://en.wikipedia.org/wiki/6061_aluminium_alloy)).\n",
    "+ The shape of these speciments is like this:\n",
    "\n",
    "```{figure} https://ars.els-cdn.com/content/image/1-s2.0-S2352340919304391-gr1_lrg.jpg\n",
    "---\n",
    "height: 300px\n",
    "name: directive-fig\n",
    "---\n",
    "Geometry of the uniaxial tension specimen.\n",
    "```\n",
    "+ They mounted the speciment (using the holes you see on the sides) on a machine that applied tension:\n",
    "\n",
    "```{figure} https://ars.els-cdn.com/content/image/1-s2.0-S2352340919304391-gr5_lrg.jpg\n",
    "---\n",
    "height: 300px\n",
    "name: directive-fig2\n",
    "---\n",
    "The mounted specimen.\n",
    "```\n",
    "+ They controlled the temperature of the specimen.\n",
    "+ They applied tension gradually until the speciment broke, recorging at each step the strain (% change in length) and the stress (force per cross section area in MPa - megaPascal).\n",
    "\n",
    "I suggest that you skim through the paper if you want to understand more about the details of the experiment.\n",
    "Measuring the strains and stresses is not as straightforward as it sounds...\n",
    "\n",
    "Our goal is to download the data, and for a fixed temperature, create a model for the stress-strain relation."
   ]
  },
  {
   "cell_type": "code",
   "execution_count": null,
   "id": "cf172a06-2296-443d-bedb-a56678508796",
   "metadata": {},
   "outputs": [],
   "source": [
    "url = 'https://md-datasets-cache-zipfiles-prod.s3.eu-west-1.amazonaws.com/rd6jm9tyb6-2.zip'\n",
    "download(url)\n",
    "!unzip -o rd6jm9tyb6-2.zip\n",
    "!unzip -o stress-strain-curves-of-aluminum-6061-t651-from-9-lots-at-6-temperatures-under-uniaxial-and-plain-strain-tension.zip"
   ]
  }
 ],
 "metadata": {
  "kernelspec": {
   "display_name": "Python 3 (ipykernel)",
   "language": "python",
   "name": "python3"
  },
  "language_info": {
   "codemirror_mode": {
    "name": "ipython",
    "version": 3
   },
   "file_extension": ".py",
   "mimetype": "text/x-python",
   "name": "python",
   "nbconvert_exporter": "python",
   "pygments_lexer": "ipython3",
   "version": "3.11.3"
  }
 },
 "nbformat": 4,
 "nbformat_minor": 5
}
